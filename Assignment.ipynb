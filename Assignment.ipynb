{
  "nbformat": 4,
  "nbformat_minor": 0,
  "metadata": {
    "colab": {
      "provenance": []
    },
    "kernelspec": {
      "name": "python3",
      "display_name": "Python 3"
    },
    "language_info": {
      "name": "python"
    }
  },
  "cells": [
    {
      "cell_type": "markdown",
      "source": [
        "**CH # 2:**"
      ],
      "metadata": {
        "id": "G_O-2U9_XoWR"
      }
    },
    {
      "cell_type": "code",
      "source": [
        "print (123)"
      ],
      "metadata": {
        "colab": {
          "base_uri": "https://localhost:8080/"
        },
        "id": "GW4QSx3AyGsE",
        "outputId": "9187d761-3b37-4ce5-df7b-5f1d327e48b3"
      },
      "execution_count": 3,
      "outputs": [
        {
          "output_type": "stream",
          "name": "stdout",
          "text": [
            "123\n"
          ]
        }
      ]
    },
    {
      "cell_type": "code",
      "source": [
        "print(98.6)\n"
      ],
      "metadata": {
        "colab": {
          "base_uri": "https://localhost:8080/"
        },
        "id": "2HSui1t70QTc",
        "outputId": "e7832fd4-59ab-4ed9-e396-0ff0291bb8d9"
      },
      "execution_count": 4,
      "outputs": [
        {
          "output_type": "stream",
          "name": "stdout",
          "text": [
            "98.6\n"
          ]
        }
      ]
    },
    {
      "cell_type": "code",
      "source": [
        "print('Hello World')"
      ],
      "metadata": {
        "colab": {
          "base_uri": "https://localhost:8080/"
        },
        "id": "BzxVdiKb0ZN6",
        "outputId": "3e484f08-2af3-4f19-d980-fb45782c8ce9"
      },
      "execution_count": 5,
      "outputs": [
        {
          "output_type": "stream",
          "name": "stdout",
          "text": [
            "Hello World\n"
          ]
        }
      ]
    },
    {
      "cell_type": "code",
      "source": [
        "xlq3z9ocd=35.0\n",
        "xlq3z9daf=12.50\n",
        "xlq3p9afd=xlq3z9ocd*xlq3z9daf\n",
        "print(xlq3p9afd)"
      ],
      "metadata": {
        "colab": {
          "base_uri": "https://localhost:8080/"
        },
        "id": "i7zPxBFq0s_u",
        "outputId": "c39c0a64-79dc-4a7d-b6b5-62845209a0f1"
      },
      "execution_count": 6,
      "outputs": [
        {
          "output_type": "stream",
          "name": "stdout",
          "text": [
            "437.5\n"
          ]
        }
      ]
    },
    {
      "cell_type": "code",
      "source": [
        "a=35.0\n",
        "b=12.50\n",
        "c=a*b\n",
        "print(c)\n"
      ],
      "metadata": {
        "colab": {
          "base_uri": "https://localhost:8080/"
        },
        "id": "w_OiMPR61W1f",
        "outputId": "ba33e44f-d232-46fe-d0ba-8530db2cf11a"
      },
      "execution_count": 7,
      "outputs": [
        {
          "output_type": "stream",
          "name": "stdout",
          "text": [
            "437.5\n"
          ]
        }
      ]
    },
    {
      "cell_type": "code",
      "source": [
        "hours=35.0\n",
        "rate=12.50\n",
        "pay=hours*rate\n",
        "print(pay)\n"
      ],
      "metadata": {
        "colab": {
          "base_uri": "https://localhost:8080/"
        },
        "id": "Njxg8nTo1OX2",
        "outputId": "3c066af9-0636-43ea-abbb-f4adef9fd243"
      },
      "execution_count": 8,
      "outputs": [
        {
          "output_type": "stream",
          "name": "stdout",
          "text": [
            "437.5\n"
          ]
        }
      ]
    },
    {
      "cell_type": "code",
      "source": [
        "x=2\n",
        "x=x+2\n",
        "print(x)"
      ],
      "metadata": {
        "colab": {
          "base_uri": "https://localhost:8080/"
        },
        "id": "c6BKMEyd12D8",
        "outputId": "0b4137d5-c2dc-44d2-8202-e5ea89ba29e1"
      },
      "execution_count": 9,
      "outputs": [
        {
          "output_type": "stream",
          "name": "stdout",
          "text": [
            "4\n"
          ]
        }
      ]
    },
    {
      "cell_type": "code",
      "source": [
        "xx=2\n",
        "xx=xx+2\n",
        "print(xx)"
      ],
      "metadata": {
        "colab": {
          "base_uri": "https://localhost:8080/"
        },
        "id": "8OheHtaW19o3",
        "outputId": "cee134dd-f008-404c-9714-92c8f64b1017"
      },
      "execution_count": 15,
      "outputs": [
        {
          "output_type": "stream",
          "name": "stdout",
          "text": [
            "4\n"
          ]
        }
      ]
    },
    {
      "cell_type": "code",
      "source": [
        "yy=440*12\n",
        "print(yy)"
      ],
      "metadata": {
        "colab": {
          "base_uri": "https://localhost:8080/"
        },
        "id": "3T8Y5RiV2jcQ",
        "outputId": "6f8d4941-8642-4684-c23c-ad4385fd169c"
      },
      "execution_count": 16,
      "outputs": [
        {
          "output_type": "stream",
          "name": "stdout",
          "text": [
            "5280\n"
          ]
        }
      ]
    },
    {
      "cell_type": "code",
      "source": [
        "zz=yy/1000\n",
        "print(zz)"
      ],
      "metadata": {
        "colab": {
          "base_uri": "https://localhost:8080/"
        },
        "id": "RjHVrn9Y2VSu",
        "outputId": "18702db7-80e9-4545-dd0d-0b5a8310e025"
      },
      "execution_count": 17,
      "outputs": [
        {
          "output_type": "stream",
          "name": "stdout",
          "text": [
            "5.28\n"
          ]
        }
      ]
    },
    {
      "cell_type": "code",
      "source": [
        "jj=23\n",
        "kk=jj%5\n",
        "print(kk)"
      ],
      "metadata": {
        "colab": {
          "base_uri": "https://localhost:8080/"
        },
        "id": "KN6k3JcT26st",
        "outputId": "590643a5-5ccc-4055-fd39-dbcebe8548b1"
      },
      "execution_count": 18,
      "outputs": [
        {
          "output_type": "stream",
          "name": "stdout",
          "text": [
            "3\n"
          ]
        }
      ]
    },
    {
      "cell_type": "code",
      "source": [
        "print(4**3)"
      ],
      "metadata": {
        "colab": {
          "base_uri": "https://localhost:8080/"
        },
        "id": "_Vq4DAjk3ELa",
        "outputId": "542b6044-b6ce-4366-8b3a-c5af54a6126b"
      },
      "execution_count": 19,
      "outputs": [
        {
          "output_type": "stream",
          "name": "stdout",
          "text": [
            "64\n"
          ]
        }
      ]
    },
    {
      "cell_type": "code",
      "source": [
        "print(float(99)+100)\n",
        "\n"
      ],
      "metadata": {
        "colab": {
          "base_uri": "https://localhost:8080/"
        },
        "id": "a5BhEqw73J2k",
        "outputId": "1b412c83-8b06-4ea7-bd8b-0f8a3fd1e38a"
      },
      "execution_count": 23,
      "outputs": [
        {
          "output_type": "stream",
          "name": "stdout",
          "text": [
            "199.0\n"
          ]
        }
      ]
    },
    {
      "cell_type": "code",
      "source": [
        "print(10/2)"
      ],
      "metadata": {
        "colab": {
          "base_uri": "https://localhost:8080/"
        },
        "id": "0qRVUrsh3pCQ",
        "outputId": "d43059b2-4c70-4611-d068-9322e47e4fd7"
      },
      "execution_count": 24,
      "outputs": [
        {
          "output_type": "stream",
          "name": "stdout",
          "text": [
            "5.0\n"
          ]
        }
      ]
    },
    {
      "cell_type": "code",
      "source": [
        "print(9/2)"
      ],
      "metadata": {
        "colab": {
          "base_uri": "https://localhost:8080/"
        },
        "id": "p0Ae0Wx23Xdd",
        "outputId": "ff62de22-441e-4193-a3a2-f1c2dce8be56"
      },
      "execution_count": 25,
      "outputs": [
        {
          "output_type": "stream",
          "name": "stdout",
          "text": [
            "4.5\n"
          ]
        }
      ]
    },
    {
      "cell_type": "code",
      "source": [
        "print(99/100)"
      ],
      "metadata": {
        "colab": {
          "base_uri": "https://localhost:8080/"
        },
        "id": "FARsBCLP38uw",
        "outputId": "68ee81fe-60a1-4c91-b1f4-7afe1f5bc1f6"
      },
      "execution_count": 26,
      "outputs": [
        {
          "output_type": "stream",
          "name": "stdout",
          "text": [
            "0.99\n"
          ]
        }
      ]
    },
    {
      "cell_type": "code",
      "source": [
        "print(10.0/2.0)"
      ],
      "metadata": {
        "colab": {
          "base_uri": "https://localhost:8080/"
        },
        "id": "9ZpdRqpM4CJm",
        "outputId": "50b4776b-93c4-48a6-f1e4-f76d9be4bc31"
      },
      "execution_count": 27,
      "outputs": [
        {
          "output_type": "stream",
          "name": "stdout",
          "text": [
            "5.0\n"
          ]
        }
      ]
    },
    {
      "cell_type": "code",
      "source": [
        "print(99.0/100.0)\n"
      ],
      "metadata": {
        "colab": {
          "base_uri": "https://localhost:8080/"
        },
        "id": "n6aCh4994QSY",
        "outputId": "b81d3da9-8d64-4237-a3af-040f292eba55"
      },
      "execution_count": 28,
      "outputs": [
        {
          "output_type": "stream",
          "name": "stdout",
          "text": [
            "0.99\n"
          ]
        }
      ]
    },
    {
      "cell_type": "code",
      "source": [
        "nam=input('Who are you?')\n",
        "print('welcome',nam)"
      ],
      "metadata": {
        "colab": {
          "base_uri": "https://localhost:8080/"
        },
        "id": "iisb92cd4WnH",
        "outputId": "feb7850f-8a4e-43db-ff61-0708ce81ab7b"
      },
      "execution_count": 29,
      "outputs": [
        {
          "output_type": "stream",
          "name": "stdout",
          "text": [
            "Who are you?Sami\n",
            "welcome Sami\n"
          ]
        }
      ]
    },
    {
      "cell_type": "markdown",
      "source": [
        "CH # 3:"
      ],
      "metadata": {
        "id": "TjU41VlBX6Te"
      }
    },
    {
      "cell_type": "code",
      "source": [
        "x=5\n",
        "if x < 10:\n",
        "  print('smaller')\n",
        "  if x > 20:\n",
        "    print ('bigger')\n",
        "  print('finis')\n"
      ],
      "metadata": {
        "colab": {
          "base_uri": "https://localhost:8080/"
        },
        "id": "xE-ckseHYAyk",
        "outputId": "1ed0850b-73d2-4399-9056-a862651cd30d"
      },
      "execution_count": 1,
      "outputs": [
        {
          "output_type": "stream",
          "name": "stdout",
          "text": [
            "smaller\n",
            "finis\n"
          ]
        }
      ]
    },
    {
      "cell_type": "code",
      "source": [
        "x=5\n",
        "print('before 5')\n",
        "if x == 5:\n",
        "   print( 'is 5')\n",
        "   print( 'is still 5')\n",
        "   print( 'Third 5')\n",
        "print('Afterward 5')\n",
        "print('Before')\n",
        "if x==6:\n",
        "   print('is 6')\n",
        "   print('is still 6')\n",
        "   print('Third 6')\n",
        "print('Afterward')\n",
        ""
      ],
      "metadata": {
        "colab": {
          "base_uri": "https://localhost:8080/"
        },
        "id": "uiRcB5ABYK94",
        "outputId": "8a812227-8732-49e5-a194-56a266010f20"
      },
      "execution_count": 2,
      "outputs": [
        {
          "output_type": "stream",
          "name": "stdout",
          "text": [
            "before 5\n",
            "is 5\n",
            "is still 5\n",
            "Third 5\n",
            "Afterward 5\n",
            "Before\n",
            "Afterward\n"
          ]
        }
      ]
    },
    {
      "cell_type": "code",
      "source": [
        "x=5\n",
        "if x > 5:\n",
        "   print|('Bigger than 2')\n",
        "   print |('Still Bigger')\n",
        "print('Done with 2')"
      ],
      "metadata": {
        "colab": {
          "base_uri": "https://localhost:8080/"
        },
        "id": "_8f9TgVqYVYJ",
        "outputId": "b40a0197-9896-4f6a-8c04-5fb7cc203da8"
      },
      "execution_count": 3,
      "outputs": [
        {
          "output_type": "stream",
          "name": "stdout",
          "text": [
            "Done with 2\n"
          ]
        }
      ]
    },
    {
      "cell_type": "code",
      "source": [
        "x=42\n",
        "if x > 1:\n",
        "  print('more than one')\n",
        "  if x < 100:\n",
        "    print('Less than 100')\n",
        "print('All done')"
      ],
      "metadata": {
        "colab": {
          "base_uri": "https://localhost:8080/"
        },
        "id": "jiE0aoadYYFG",
        "outputId": "832aba61-96f3-4416-c5b7-df07558700a0"
      },
      "execution_count": 4,
      "outputs": [
        {
          "output_type": "stream",
          "name": "stdout",
          "text": [
            "more than one\n",
            "Less than 100\n",
            "All done\n"
          ]
        }
      ]
    },
    {
      "cell_type": "code",
      "source": [
        "x=4\n",
        "if x > 2:\n",
        "  print('Bigger')\n",
        "else:\n",
        "    print('Smaller')\n",
        "print('All done')"
      ],
      "metadata": {
        "colab": {
          "base_uri": "https://localhost:8080/"
        },
        "id": "TtW-g9IiYfkF",
        "outputId": "1122cd96-25a0-4e8d-da2a-f6e629cabad9"
      },
      "execution_count": 5,
      "outputs": [
        {
          "output_type": "stream",
          "name": "stdout",
          "text": [
            "Bigger\n",
            "All done\n"
          ]
        }
      ]
    },
    {
      "cell_type": "code",
      "source": [
        "if x > 2:\n",
        "  print('smaller')\n",
        "elif x < 10:\n",
        "    print('medium')\n",
        "else :\n",
        "    print('large')\n",
        "print('all done')"
      ],
      "metadata": {
        "colab": {
          "base_uri": "https://localhost:8080/"
        },
        "id": "S6QUoumgYjhM",
        "outputId": "c92a8738-f64c-4e61-cb8c-541f2cdcb8b3"
      },
      "execution_count": 6,
      "outputs": [
        {
          "output_type": "stream",
          "name": "stdout",
          "text": [
            "smaller\n",
            "all done\n"
          ]
        }
      ]
    },
    {
      "cell_type": "code",
      "source": [
        "x = 0\n",
        "if x > 2:\n",
        "  print('smaller')\n",
        "elif x < 10:\n",
        "    print('medium')\n",
        "else :\n",
        "    print('large')\n",
        "print('all done')"
      ],
      "metadata": {
        "colab": {
          "base_uri": "https://localhost:8080/"
        },
        "id": "s6YbgNgiYsF-",
        "outputId": "16cabb7d-6ee2-4c5a-b161-324034acacb2"
      },
      "execution_count": 7,
      "outputs": [
        {
          "output_type": "stream",
          "name": "stdout",
          "text": [
            "medium\n",
            "all done\n"
          ]
        }
      ]
    },
    {
      "cell_type": "code",
      "source": [
        "x = 5\n",
        "if x > 2:\n",
        "  print('smaller')\n",
        "elif x < 10:\n",
        "    print('medium')\n",
        "else :\n",
        "    print('large')\n",
        "print('all done')"
      ],
      "metadata": {
        "colab": {
          "base_uri": "https://localhost:8080/"
        },
        "id": "Ppvj5mZcYyXn",
        "outputId": "5439b729-4b5f-4fbe-ff4b-fdf697effa3c"
      },
      "execution_count": 8,
      "outputs": [
        {
          "output_type": "stream",
          "name": "stdout",
          "text": [
            "smaller\n",
            "all done\n"
          ]
        }
      ]
    },
    {
      "cell_type": "code",
      "source": [
        "x = 20\n",
        "if x > 2:\n",
        "  print('smaller')\n",
        "elif x < 10:\n",
        "    print('medium')\n",
        "else :\n",
        "    print('large')\n",
        "print('all done')"
      ],
      "metadata": {
        "colab": {
          "base_uri": "https://localhost:8080/"
        },
        "id": "Ju1n_BglY3oP",
        "outputId": "92dfffe1-5964-434a-9e2c-65688a75285a"
      },
      "execution_count": 9,
      "outputs": [
        {
          "output_type": "stream",
          "name": "stdout",
          "text": [
            "smaller\n",
            "all done\n"
          ]
        }
      ]
    },
    {
      "cell_type": "code",
      "source": [
        "x = 5\n",
        "if x > 2:\n",
        "  print('smaller')\n",
        "elif x < 10:\n",
        "    print('medium')\n",
        "print('all done')"
      ],
      "metadata": {
        "colab": {
          "base_uri": "https://localhost:8080/"
        },
        "id": "Z5vIeoi5Y8p5",
        "outputId": "dc0c070d-5d1e-4ca5-d408-acd598615b1e"
      },
      "execution_count": 10,
      "outputs": [
        {
          "output_type": "stream",
          "name": "stdout",
          "text": [
            "smaller\n",
            "all done\n"
          ]
        }
      ]
    },
    {
      "cell_type": "code",
      "source": [
        "if x > 2:\n",
        "  print('bellow 2')\n",
        "elif x >= 2:\n",
        "    print('two or more')\n",
        "else :\n",
        "     print('something else')"
      ],
      "metadata": {
        "colab": {
          "base_uri": "https://localhost:8080/"
        },
        "id": "AZcECnvCZI_o",
        "outputId": "240ec13c-16f0-4286-94f3-c8da33b9360b"
      },
      "execution_count": 11,
      "outputs": [
        {
          "output_type": "stream",
          "name": "stdout",
          "text": [
            "bellow 2\n"
          ]
        }
      ]
    },
    {
      "cell_type": "markdown",
      "source": [
        "**CH # 4:**"
      ],
      "metadata": {
        "id": "Bw98eTxDZRn8"
      }
    },
    {
      "cell_type": "code",
      "source": [
        "def thing():\n",
        "  print('Hello')\n",
        "  print('Fun')\n",
        "thing()\n",
        "print('zip')\n",
        "thing()"
      ],
      "metadata": {
        "id": "5bu2rmCfZavS"
      },
      "execution_count": null,
      "outputs": []
    },
    {
      "cell_type": "code",
      "source": [
        "big=max('Hello world')\n",
        "print(big)\n",
        "tiny=min('Hello world')\n",
        "print(tiny)"
      ],
      "metadata": {
        "colab": {
          "base_uri": "https://localhost:8080/"
        },
        "id": "LMDNVmwpZgyN",
        "outputId": "67befb1d-1863-41ca-da79-fe5939d9fff7"
      },
      "execution_count": 13,
      "outputs": [
        {
          "output_type": "stream",
          "name": "stdout",
          "text": [
            "w\n",
            " \n"
          ]
        }
      ]
    },
    {
      "cell_type": "code",
      "source": [
        "big=max('Hello world')\n",
        "print(big)"
      ],
      "metadata": {
        "colab": {
          "base_uri": "https://localhost:8080/"
        },
        "id": "rLnWAFwIZk4C",
        "outputId": "6de7cf3e-4392-439d-a95e-baf898533792"
      },
      "execution_count": 14,
      "outputs": [
        {
          "output_type": "stream",
          "name": "stdout",
          "text": [
            "w\n"
          ]
        }
      ]
    },
    {
      "cell_type": "code",
      "source": [
        "print(float(99)+100)"
      ],
      "metadata": {
        "colab": {
          "base_uri": "https://localhost:8080/"
        },
        "id": "DXg8LUPfZpBW",
        "outputId": "dcc369fa-3c4b-4281-a5fa-0d091d8872ec"
      },
      "execution_count": 15,
      "outputs": [
        {
          "output_type": "stream",
          "name": "stdout",
          "text": [
            "199.0\n"
          ]
        }
      ]
    },
    {
      "cell_type": "code",
      "source": [
        "i = 42\n",
        "type(i)"
      ],
      "metadata": {
        "colab": {
          "base_uri": "https://localhost:8080/"
        },
        "id": "Va9pr9v9ZuD9",
        "outputId": "e19949bc-f48d-4d44-9796-0e270b1ffe13"
      },
      "execution_count": 16,
      "outputs": [
        {
          "output_type": "execute_result",
          "data": {
            "text/plain": [
              "int"
            ]
          },
          "metadata": {},
          "execution_count": 16
        }
      ]
    },
    {
      "cell_type": "code",
      "source": [
        "f = float(i)\n",
        "print(f)"
      ],
      "metadata": {
        "colab": {
          "base_uri": "https://localhost:8080/"
        },
        "id": "Bpirjnj2ZzRy",
        "outputId": "737d7245-ae1e-4a27-ff71-3fd8088078e2"
      },
      "execution_count": 17,
      "outputs": [
        {
          "output_type": "stream",
          "name": "stdout",
          "text": [
            "42.0\n"
          ]
        }
      ]
    },
    {
      "cell_type": "code",
      "source": [
        "type(f)"
      ],
      "metadata": {
        "colab": {
          "base_uri": "https://localhost:8080/"
        },
        "id": "atNd1IWOZ20J",
        "outputId": "9c0a44b6-22b6-495b-d90c-f74b09c8f1f9"
      },
      "execution_count": 18,
      "outputs": [
        {
          "output_type": "execute_result",
          "data": {
            "text/plain": [
              "float"
            ]
          },
          "metadata": {},
          "execution_count": 18
        }
      ]
    },
    {
      "cell_type": "code",
      "source": [
        "print(1+2*float(3)/4-5)"
      ],
      "metadata": {
        "colab": {
          "base_uri": "https://localhost:8080/"
        },
        "id": "1eBdiXgeZ8IW",
        "outputId": "d558a68e-13b3-4a0b-f2e1-909d4816acf9"
      },
      "execution_count": 19,
      "outputs": [
        {
          "output_type": "stream",
          "name": "stdout",
          "text": [
            "-2.5\n"
          ]
        }
      ]
    },
    {
      "cell_type": "code",
      "source": [
        "sval='123'\n",
        "type(sval)"
      ],
      "metadata": {
        "colab": {
          "base_uri": "https://localhost:8080/"
        },
        "id": "r0Jb7BjdZ_tH",
        "outputId": "76583aad-02b2-4de3-e26d-9150ae301b11"
      },
      "execution_count": 20,
      "outputs": [
        {
          "output_type": "execute_result",
          "data": {
            "text/plain": [
              "str"
            ]
          },
          "metadata": {},
          "execution_count": 20
        }
      ]
    },
    {
      "cell_type": "code",
      "source": [
        "print('sval + 1')"
      ],
      "metadata": {
        "colab": {
          "base_uri": "https://localhost:8080/"
        },
        "id": "qlwPKwg5aCyX",
        "outputId": "ca58b5bf-ebcc-4170-932e-aece01aef51f"
      },
      "execution_count": 23,
      "outputs": [
        {
          "output_type": "stream",
          "name": "stdout",
          "text": [
            "sval + 1\n"
          ]
        }
      ]
    },
    {
      "cell_type": "code",
      "source": [
        "ival = int(sval)\n",
        "type(ival)"
      ],
      "metadata": {
        "colab": {
          "base_uri": "https://localhost:8080/"
        },
        "id": "WRTFHIz_aGtd",
        "outputId": "0639844c-fbd6-4404-8d20-77aba85976ab"
      },
      "execution_count": 22,
      "outputs": [
        {
          "output_type": "execute_result",
          "data": {
            "text/plain": [
              "int"
            ]
          },
          "metadata": {},
          "execution_count": 22
        }
      ]
    },
    {
      "cell_type": "code",
      "source": [
        "print(ival + 1)"
      ],
      "metadata": {
        "colab": {
          "base_uri": "https://localhost:8080/"
        },
        "id": "i8No2BpbaMdx",
        "outputId": "5ec3c237-e055-4027-acc5-7a1eb8707b1d"
      },
      "execution_count": 24,
      "outputs": [
        {
          "output_type": "stream",
          "name": "stdout",
          "text": [
            "124\n"
          ]
        }
      ]
    },
    {
      "cell_type": "code",
      "source": [
        "x=5\n",
        "print('Hello')"
      ],
      "metadata": {
        "colab": {
          "base_uri": "https://localhost:8080/"
        },
        "id": "EwyKiPljaRyc",
        "outputId": "6909fe9a-6cd1-4f78-a66a-105e0998049c"
      },
      "execution_count": 25,
      "outputs": [
        {
          "output_type": "stream",
          "name": "stdout",
          "text": [
            "Hello\n"
          ]
        }
      ]
    },
    {
      "cell_type": "code",
      "source": [
        "def print_lyrics():\n",
        "    print(\"i am a lumberjack, and i am ok.\")\n",
        "    print(\"i sleep all night and i work all day.\")"
      ],
      "metadata": {
        "id": "SR_hCnmIaZaR"
      },
      "execution_count": 26,
      "outputs": []
    },
    {
      "cell_type": "code",
      "source": [
        "print('Yo')\n",
        "x=x+2\n",
        "print(x)"
      ],
      "metadata": {
        "colab": {
          "base_uri": "https://localhost:8080/"
        },
        "id": "PrVBC-wIadDb",
        "outputId": "1f768b60-9687-4649-b0e6-a9cf71b64699"
      },
      "execution_count": 27,
      "outputs": [
        {
          "output_type": "stream",
          "name": "stdout",
          "text": [
            "Yo\n",
            "7\n"
          ]
        }
      ]
    },
    {
      "cell_type": "code",
      "source": [
        "def greet():\n",
        "  return \"Hello\"\n",
        "print(greet(),\"Glenn\")\n",
        "print(greet(),\"Sally\")"
      ],
      "metadata": {
        "colab": {
          "base_uri": "https://localhost:8080/"
        },
        "id": "woBp_HFPagWm",
        "outputId": "956bf6f9-1466-4235-b37b-c47aa1985dbe"
      },
      "execution_count": 28,
      "outputs": [
        {
          "output_type": "stream",
          "name": "stdout",
          "text": [
            "Hello Glenn\n",
            "Hello Sally\n"
          ]
        }
      ]
    },
    {
      "cell_type": "code",
      "source": [
        "def greet(lang):\n",
        "  if lang == 'es':\n",
        "    return 'Holla'\n",
        "  elif lang == 'fr':\n",
        "    return 'Bonjour'\n",
        "  else:\n",
        "    return 'Hello'"
      ],
      "metadata": {
        "id": "Marxf5KhalV1"
      },
      "execution_count": 29,
      "outputs": []
    },
    {
      "cell_type": "code",
      "source": [
        "print(greet('en'),'Glenn')"
      ],
      "metadata": {
        "colab": {
          "base_uri": "https://localhost:8080/"
        },
        "id": "JqoUJWWiapnY",
        "outputId": "4939cf79-d3d4-4c9d-dd8f-599f2a923b8c"
      },
      "execution_count": 30,
      "outputs": [
        {
          "output_type": "stream",
          "name": "stdout",
          "text": [
            "Hello Glenn\n"
          ]
        }
      ]
    },
    {
      "cell_type": "code",
      "source": [
        "print(greet('es'),'Sally')"
      ],
      "metadata": {
        "colab": {
          "base_uri": "https://localhost:8080/"
        },
        "id": "qNUoC2hYaueo",
        "outputId": "cb391b96-2391-408a-eb9b-5ad12efec7cb"
      },
      "execution_count": 31,
      "outputs": [
        {
          "output_type": "stream",
          "name": "stdout",
          "text": [
            "Holla Sally\n"
          ]
        }
      ]
    },
    {
      "cell_type": "code",
      "source": [
        "print(greet('fr'),'Micheal')"
      ],
      "metadata": {
        "colab": {
          "base_uri": "https://localhost:8080/"
        },
        "id": "bkpe_vWwayMu",
        "outputId": "de5c87a1-bacc-4ecb-edb0-015540aec7af"
      },
      "execution_count": 32,
      "outputs": [
        {
          "output_type": "stream",
          "name": "stdout",
          "text": [
            "Bonjour Micheal\n"
          ]
        }
      ]
    },
    {
      "cell_type": "code",
      "source": [
        "def addtwo(a,b):\n",
        "  added=a+b\n",
        "  return added"
      ],
      "metadata": {
        "id": "b_k1SZX1a2K6"
      },
      "execution_count": 33,
      "outputs": []
    },
    {
      "cell_type": "code",
      "source": [
        "x=addtwo(3,5)\n",
        "print(x)"
      ],
      "metadata": {
        "colab": {
          "base_uri": "https://localhost:8080/"
        },
        "id": "Hx6Zun2Ma5j0",
        "outputId": "b93af8a6-f583-40ab-b84a-c0b156724c35"
      },
      "execution_count": 34,
      "outputs": [
        {
          "output_type": "stream",
          "name": "stdout",
          "text": [
            "8\n"
          ]
        }
      ]
    },
    {
      "cell_type": "markdown",
      "source": [
        "**CH # 5:**"
      ],
      "metadata": {
        "id": "NmIBXrUQbT2g"
      }
    },
    {
      "cell_type": "code",
      "source": [
        "n  = 5\n",
        "while n > 0:\n",
        "  print(n)\n",
        "  n=n-1\n",
        "print('Blastoff')\n",
        "print(n)"
      ],
      "metadata": {
        "colab": {
          "base_uri": "https://localhost:8080/"
        },
        "id": "5b1_-2v4bYtq",
        "outputId": "740bb620-a699-46be-b8da-b8e85f03a42f"
      },
      "execution_count": 35,
      "outputs": [
        {
          "output_type": "stream",
          "name": "stdout",
          "text": [
            "5\n",
            "4\n",
            "3\n",
            "2\n",
            "1\n",
            "Blastoff\n",
            "0\n"
          ]
        }
      ]
    },
    {
      "cell_type": "markdown",
      "source": [
        "while True:\n",
        "  line = input('>')\n",
        "  if line == 'done':\n",
        "    break\n",
        "  print(line)\n",
        "print('Drone')"
      ],
      "metadata": {
        "id": "U_yp88KTbtZe"
      }
    },
    {
      "cell_type": "code",
      "source": [
        "n  = 0\n",
        "while n > 0 :\n",
        "  print('Lather')\n",
        "  print('Rinse')\n",
        "print('Dry Off')"
      ],
      "metadata": {
        "id": "GKONGhwFcHVC"
      },
      "execution_count": null,
      "outputs": []
    },
    {
      "cell_type": "code",
      "source": [
        "while True:\n",
        "    line = input('>')\n",
        "    if line == 'done' :\n",
        "       break\n",
        "    print(line)\n",
        "print('Done!')"
      ],
      "metadata": {
        "id": "GPlBAJw-dMBF"
      },
      "execution_count": null,
      "outputs": []
    },
    {
      "cell_type": "code",
      "source": [
        "while True:\n",
        "    line = input('>')\n",
        "    if line[0] == '#' :\n",
        "       continue\n",
        "    if line == 'done' :\n",
        "       break\n",
        "    print(line)\n",
        "print('Done!')"
      ],
      "metadata": {
        "id": "6Hv5Q8RbdnJS"
      },
      "execution_count": null,
      "outputs": []
    },
    {
      "cell_type": "code",
      "source": [
        "while True:\n",
        "    line = raw_input('>')\n",
        "    if line[0] == '#' :\n",
        "       continue\n",
        "    if line == 'done' :\n",
        "       break\n",
        "    print(line)\n",
        "print('Done!')"
      ],
      "metadata": {
        "id": "PpA98m9reIqf"
      },
      "execution_count": null,
      "outputs": []
    },
    {
      "cell_type": "code",
      "source": [
        "i = 5\n",
        "print(i)"
      ],
      "metadata": {
        "id": "iKkkfcwqejOT"
      },
      "execution_count": null,
      "outputs": []
    },
    {
      "cell_type": "code",
      "source": [
        "i = 4\n",
        "print(i)"
      ],
      "metadata": {
        "id": "8lfBBpJ1exaJ"
      },
      "execution_count": null,
      "outputs": []
    },
    {
      "cell_type": "code",
      "source": [
        "i = 3\n",
        "print(i)"
      ],
      "metadata": {
        "id": "AzCAhAmxe5UV"
      },
      "execution_count": null,
      "outputs": []
    },
    {
      "cell_type": "code",
      "source": [
        "i = 2\n",
        "print(i)"
      ],
      "metadata": {
        "id": "i6wp8aPse68q"
      },
      "execution_count": null,
      "outputs": []
    },
    {
      "cell_type": "code",
      "source": [
        "i = 1\n",
        "print(i)"
      ],
      "metadata": {
        "id": "Paqemmt0e80F"
      },
      "execution_count": null,
      "outputs": []
    },
    {
      "cell_type": "code",
      "source": [
        "for i in [5,4,3,2,1]\n",
        "    print(i)\n",
        "print('Blastoff!')"
      ],
      "metadata": {
        "id": "81jIIfICeTEN"
      },
      "execution_count": null,
      "outputs": []
    },
    {
      "cell_type": "code",
      "source": [
        "print('Before')\n",
        "for thing in\n",
        "     print(thing)[9,41,12,3,74,15]:\n",
        "print('After')"
      ],
      "metadata": {
        "id": "0w6OCrIZe_tR"
      },
      "execution_count": null,
      "outputs": []
    },
    {
      "cell_type": "code",
      "source": [
        "largest_so_far = -1\n",
        "print('Before',largest_so_far)\n",
        "for the_num in [9,41,12,3,74,15]:\n",
        "    if the_num > largest_so_far :\n",
        "      largest_so_far= the_num\n",
        "    print(largest_so_far,the_num)\n",
        "print('After',largest_so_far)"
      ],
      "metadata": {
        "id": "Mn46Iow0fWs2"
      },
      "execution_count": null,
      "outputs": []
    },
    {
      "cell_type": "code",
      "source": [
        "zip = 0\n",
        "print ('Before', zork)\n",
        "for thing in [9,41,12,3,74,15]:\n",
        "    zork = zork + 1\n",
        "    print(zork, thing)\n",
        "print('After' , zork)"
      ],
      "metadata": {
        "id": "3jPVGJjygOND"
      },
      "execution_count": null,
      "outputs": []
    },
    {
      "cell_type": "code",
      "source": [
        "zip = 0\n",
        "print ('Before', zork)\n",
        "for thing in [9,41,12,3,74,15]:\n",
        "    zork = zork + things\n",
        "    print(zork, thing)\n",
        "print('After' , zork)"
      ],
      "metadata": {
        "id": "Vkxq2IPygx8q"
      },
      "execution_count": null,
      "outputs": []
    },
    {
      "cell_type": "code",
      "source": [
        "count = 0\n",
        "sum = 0\n",
        "print ('Before', count,sum)\n",
        "for value in [9,41,12,3,74,15]:\n",
        "    count = count + 1\n",
        "    sum = sum + value\n",
        "    print(count,sum,value)\n",
        "    print('After',count,sum,sum/count)"
      ],
      "metadata": {
        "id": "dLu28oGag-f-"
      },
      "execution_count": null,
      "outputs": []
    },
    {
      "cell_type": "code",
      "source": [
        "print('Before')\n",
        "for value in [9,41,12,3,74,15]:\n",
        "    if value > 20;\n",
        "        print('Large number',value)\n",
        "print('After')"
      ],
      "metadata": {
        "id": "VNt2OK7qhxL8"
      },
      "execution_count": null,
      "outputs": []
    },
    {
      "cell_type": "code",
      "source": [
        "found = False\n",
        "print ('Before', found)\n",
        "for value in [9,41,12,3,74,15]:\n",
        "   if value == 3 :\n",
        "       found = True\n",
        "    print(found,value)\n",
        "print('After',found)"
      ],
      "metadata": {
        "id": "PzS1q_H0iMN4"
      },
      "execution_count": null,
      "outputs": []
    },
    {
      "cell_type": "code",
      "source": [
        "largest_so_far = _1\n",
        "print ('Before' , largest_so_far)\n",
        "for the_num  in [9,41,12,3,74,15]:\n",
        "  if the_num > largest_so_far:\n",
        "    largest_so_far = the_num\n",
        "  print(largest_so_far, the num)\n",
        "print('After',largest_so_far)"
      ],
      "metadata": {
        "id": "qLZi2x9kjg8K"
      },
      "execution_count": null,
      "outputs": []
    },
    {
      "cell_type": "code",
      "source": [
        "smallest_so_far = _1\n",
        "print ('Before' , smallest_so_far)\n",
        "for the_num  in [9,41,12,3,74,15]:\n",
        "  if the_num < smallest_so_far :\n",
        "    smallest_so_far = the_num\n",
        "  print(smallest_so_far, the num)\n",
        "print('After',largest_so_far)\n"
      ],
      "metadata": {
        "id": "Z465lW4FjnLl"
      },
      "execution_count": null,
      "outputs": []
    },
    {
      "cell_type": "code",
      "source": [
        "smallest = None\n",
        "print('Before')\n",
        "for value in [9,41,12,3,74,15]:\n",
        "    if smallest is None :\n",
        "      smallest = value\n",
        "  elif value < smallest :\n",
        "    smallest = value\n",
        "  print (smallest,value)\n",
        "print ('after',smallest)"
      ],
      "metadata": {
        "id": "EFH4n_kIkK35"
      },
      "execution_count": null,
      "outputs": []
    },
    {
      "cell_type": "markdown",
      "source": [
        "**CH # 6**"
      ],
      "metadata": {
        "id": "kKoxBgtFlMRK"
      }
    },
    {
      "cell_type": "code",
      "source": [
        "str1 = \"Hello\"\n",
        "str2 = 'there'\n",
        "bob = str1 + str2\n",
        "print(bob)"
      ],
      "metadata": {
        "id": "CVn0z8HWlQsj"
      },
      "execution_count": null,
      "outputs": []
    },
    {
      "cell_type": "code",
      "source": [
        "str3 = '123'\n",
        "str3 = str3 + 1"
      ],
      "metadata": {
        "id": "F-rXRvCzllzW"
      },
      "execution_count": null,
      "outputs": []
    },
    {
      "cell_type": "code",
      "source": [
        "x = int(str3) + 1\n",
        "print(x)"
      ],
      "metadata": {
        "id": "G7ahhY-rmQ3c"
      },
      "execution_count": null,
      "outputs": []
    },
    {
      "cell_type": "code",
      "source": [
        "name = input('ENter:')\n",
        "print(name)"
      ],
      "metadata": {
        "id": "blYe4TaAmYVv"
      },
      "execution_count": null,
      "outputs": []
    },
    {
      "cell_type": "code",
      "source": [
        "apple = input ('Enter:')\n",
        "x=apple - 10"
      ],
      "metadata": {
        "id": "64Mk578Vm78i"
      },
      "execution_count": null,
      "outputs": []
    },
    {
      "cell_type": "code",
      "source": [
        "x = int(apple) - 1\n",
        "print(x)"
      ],
      "metadata": {
        "id": "8NUY4bCrm86_"
      },
      "execution_count": null,
      "outputs": []
    },
    {
      "cell_type": "code",
      "source": [
        "fruit = 'banana'\n",
        "letter = fruit[1]\n",
        "print(letter)"
      ],
      "metadata": {
        "id": "Upp85J2dnHa_"
      },
      "execution_count": null,
      "outputs": []
    },
    {
      "cell_type": "code",
      "source": [
        "w = 3\n",
        "w = fruitp[x - 1]\n",
        "print(w)"
      ],
      "metadata": {
        "id": "Ccju_O1snZcQ"
      },
      "execution_count": null,
      "outputs": []
    },
    {
      "cell_type": "code",
      "source": [
        "zot = 'abc'\n",
        "print(zot[5])"
      ],
      "metadata": {
        "id": "VtnIMe7ankmJ"
      },
      "execution_count": null,
      "outputs": []
    },
    {
      "cell_type": "code",
      "source": [
        "fruit = 'banana'\n",
        "print(len(fruit))"
      ],
      "metadata": {
        "id": "OCRPrGtHn1dc"
      },
      "execution_count": null,
      "outputs": []
    },
    {
      "cell_type": "code",
      "source": [
        "fruit = 'banana'\n",
        "x = len(fruit)\n",
        "print(x)"
      ],
      "metadata": {
        "id": "cOpEiNqQoAhw"
      },
      "execution_count": null,
      "outputs": []
    },
    {
      "cell_type": "code",
      "source": [
        "fruit = 'banana'\n",
        "index = 0\n",
        "while index < len(fruit):\n",
        "  letter = fruit[index]\n",
        "  print(index , letter)\n",
        "  index = index + 1"
      ],
      "metadata": {
        "id": "RHBwS527oQlF"
      },
      "execution_count": null,
      "outputs": []
    },
    {
      "cell_type": "code",
      "source": [
        "fruit = 'banana'\n",
        "for letter in fruit:\n",
        "print(letter)"
      ],
      "metadata": {
        "id": "sC7QOdmHorfr"
      },
      "execution_count": null,
      "outputs": []
    },
    {
      "cell_type": "code",
      "source": [
        "index = 0\n",
        "while index < len(fruit) :\n",
        "      letter = fruit[index]\n",
        "      print(letter)\n",
        "      index = index + 1"
      ],
      "metadata": {
        "id": "bSRXSlYLo1NY"
      },
      "execution_count": null,
      "outputs": []
    }
  ]
}